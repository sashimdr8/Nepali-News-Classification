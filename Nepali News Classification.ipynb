{
 "cells": [
  {
   "cell_type": "code",
   "execution_count": 1,
   "id": "e0974d34",
   "metadata": {},
   "outputs": [],
   "source": [
    "# Import project dependencies\n",
    "\n",
    "import pandas as pd\n",
    "import pandas as pd\n",
    "import numpy as np\n",
    "import re\n",
    "from sklearn.model_selection import train_test_split\n",
    "from nltk.corpus import stopwords\n",
    "from nltk import  word_tokenize\n",
    "from collections import Counter\n",
    "import matplotlib.pyplot as plt\n",
    "from wordcloud import WordCloud\n",
    "import seaborn as sns\n",
    "from sklearn.metrics import classification_report, f1_score, accuracy_score, confusion_matrix,recall_score,precision_score\n",
    "from keras.preprocessing.text import Tokenizer\n",
    "from keras.utils import pad_sequences\n",
    "from keras.utils import to_categorical\n",
    "from keras.layers import Dense, Input, GlobalMaxPooling1D, Dropout\n",
    "from keras.layers import Conv1D, MaxPooling1D, Embedding\n",
    "from keras.models import Model\n",
    "from keras.initializers import Constant\n",
    "from matplotlib import pyplot\n",
    "from keras import backend as K\n",
    "from keras.layers import MaxPool1D\n",
    "from keras.models import Model\n",
    "\n",
    "# glove vectorizer dependencies\n",
    "from scipy import spatial\n",
    "import matplotlib.pyplot as plt\n",
    "from sklearn.manifold import TSNE\n",
    "import io\n",
    "import os"
   ]
  },
  {
   "cell_type": "code",
   "execution_count": 2,
   "id": "2fab0775",
   "metadata": {},
   "outputs": [
    {
     "name": "stdout",
     "output_type": "stream",
     "text": [
      "DataFrame Size: 520235\n"
     ]
    }
   ],
   "source": [
    "# Read csv dataset and save to df\n",
    "\n",
    "filePath = 'TOTAL_TEXTS_SETOPATI.csv'\n",
    "VALIDATION_SPLIT = 0.3\n",
    "MAX_SEQUENCE_LENGTH = 1000\n",
    "MAX_NUM_WORDS = 20000\n",
    "EMBEDDING_DIM = 300\n",
    "\n",
    "df = pd.read_csv(filePath)\n",
    "print(\"DataFrame Size: \"+ str(df.size))"
   ]
  },
  {
   "cell_type": "code",
   "execution_count": 3,
   "id": "7a79251a",
   "metadata": {},
   "outputs": [],
   "source": [
    "#Preprocessing {Remove Stop words using nltk}\n",
    "\n",
    "stop_words = stopwords.words(\"nepali\")\n",
    "def string_manipulation(df,column)  : \n",
    "    df[column] = df[column].apply(lambda x: re.sub('[।(),०-९<<?!,—,–,/,’,‘,:,\\u200d]', '', x))\n",
    "    df[column] = df[column].apply(lambda x: \" \".join([i for i in x.split()if i not in (stop_words)]))\n",
    "    return df\n",
    "Data = string_manipulation(df,\"text\")"
   ]
  },
  {
   "cell_type": "code",
   "execution_count": 4,
   "id": "932f2db6",
   "metadata": {},
   "outputs": [
    {
     "name": "stdout",
     "output_type": "stream",
     "text": [
      "Indexing word vectors.\n",
      "Found 663564 word vectors.\n"
     ]
    }
   ],
   "source": [
    "# convert word into vector\n",
    "\n",
    "print('Indexing word vectors.')\n",
    "embeddings_dict = {}\n",
    "\n",
    "# Used NPVec1: Word Embeddings for Nepali for glove from [https://github.com/nowalab/nepali-word-embeddings]\n",
    "# processed.glove.txt, processed_normalized_stemmed.glove \n",
    "\n",
    "with open(\"processed.glove\", 'r', encoding='utf-8') as f:\n",
    "    for line in f:\n",
    "        values = line.split()\n",
    "        token = values[0]\n",
    "        vector = np.asarray(values[1:], \"float32\")\n",
    "        embeddings_dict[token] = vector\n",
    "\n",
    "print('Found %s word vectors.' % len(embeddings_dict))"
   ]
  },
  {
   "cell_type": "code",
   "execution_count": 5,
   "id": "36b0ea08",
   "metadata": {},
   "outputs": [],
   "source": [
    "def recall_m(y_true, y_pred):\n",
    "        true_positives = K.sum(K.round(K.clip(y_true * y_pred, 0, 1)))\n",
    "        possible_positives = K.sum(K.round(K.clip(y_true, 0, 1)))\n",
    "        recall = true_positives / (possible_positives + K.epsilon())\n",
    "        return recall\n",
    "\n",
    "def precision_m(y_true, y_pred):\n",
    "        true_positives = K.sum(K.round(K.clip(y_true * y_pred, 0, 1)))\n",
    "        predicted_positives = K.sum(K.round(K.clip(y_pred, 0, 1)))\n",
    "        precision = true_positives / (predicted_positives + K.epsilon())\n",
    "        return precision\n",
    "\n",
    "def f1_m(y_true, y_pred):\n",
    "    precision = precision_m(y_true, y_pred)\n",
    "    recall = recall_m(y_true, y_pred)\n",
    "    return 2*((precision*recall)/(precision+recall+K.epsilon()))"
   ]
  },
  {
   "cell_type": "code",
   "execution_count": 6,
   "id": "41fd1910",
   "metadata": {},
   "outputs": [
    {
     "name": "stdout",
     "output_type": "stream",
     "text": [
      "Processing text dataset\n",
      "Found 104047 news texts.\n",
      "Found 104047 news labels.\n"
     ]
    }
   ],
   "source": [
    "# second, prepare text samples and their labels\n",
    "print('Processing text dataset')\n",
    "\n",
    "newsTexts = Data['text'].tolist()\n",
    "labels_index = {}  # dictionary mapping label name to numeric id\n",
    "labels = [] # list of label ids\n",
    "allCategoryDataList = Data['catagory']\n",
    "\n",
    "indexCount = 0\n",
    "for category in allCategoryDataList.unique():\n",
    "    labels_index[category] = indexCount\n",
    "    indexCount = indexCount + 1\n",
    "\n",
    "for category in allCategoryDataList.tolist():\n",
    "    labels.append(labels_index[category])\n",
    "        \n",
    "print('Found %s news texts.' % len(newsTexts))\n",
    "print('Found %s news labels.' % len(labels))\n"
   ]
  },
  {
   "cell_type": "code",
   "execution_count": 7,
   "id": "8058d036",
   "metadata": {
    "scrolled": true
   },
   "outputs": [
    {
     "name": "stdout",
     "output_type": "stream",
     "text": [
      "Found 899236 unique tokens.\n",
      "Shape of data tensor: (104047, 1000)\n",
      "Shape of label tensor: (104047, 63)\n",
      "label tensor: [1. 0. 0. 0. 0. 0. 0. 0. 0. 0. 0. 0. 0. 0. 0. 0. 0. 0. 0. 0. 0. 0. 0. 0.\n",
      " 0. 0. 0. 0. 0. 0. 0. 0. 0. 0. 0. 0. 0. 0. 0. 0. 0. 0. 0. 0. 0. 0. 0. 0.\n",
      " 0. 0. 0. 0. 0. 0. 0. 0. 0. 0. 0. 0. 0. 0. 0.]\n"
     ]
    }
   ],
   "source": [
    "# finally, vectorize the text samples into a 2D integer tensor\n",
    "tokenizer = Tokenizer(num_words=MAX_NUM_WORDS)\n",
    "tokenizer.fit_on_texts(newsTexts)\n",
    "sequences = tokenizer.texts_to_sequences(newsTexts)\n",
    "word_index = tokenizer.word_index\n",
    "print('Found %s unique tokens.' % len(word_index))\n",
    "\n",
    "data = pad_sequences(sequences, maxlen=MAX_SEQUENCE_LENGTH)\n",
    "\n",
    "labelsCategorical = to_categorical(np.asarray(labels))\n",
    "\n",
    "print('Shape of data tensor:', data.shape)\n",
    "print('Shape of label tensor:', labelsCategorical.shape)\n",
    "print('label tensor:', labelsCategorical[0])\n",
    "\n",
    "# split the data into a training set(70%) and a validation set(30%)\n",
    "indices = np.arange(data.shape[0])\n",
    "np.random.shuffle(indices)\n",
    "data = data[indices]\n",
    "finalLabels = labelsCategorical[indices]\n",
    "num_validation_samples = int(VALIDATION_SPLIT * data.shape[0])\n",
    "\n",
    "x_train = data[:-num_validation_samples]\n",
    "y_train = finalLabels[:-num_validation_samples]\n",
    "x_val = data[-num_validation_samples:]\n",
    "y_val = finalLabels[-num_validation_samples:]"
   ]
  },
  {
   "cell_type": "code",
   "execution_count": 8,
   "id": "50ed6c7c",
   "metadata": {},
   "outputs": [
    {
     "name": "stdout",
     "output_type": "stream",
     "text": [
      "Preparing embedding matrix.\n",
      "done\n"
     ]
    }
   ],
   "source": [
    "print('Preparing embedding matrix.')\n",
    "\n",
    "# prepare embedding matrix\n",
    "num_words = min(MAX_NUM_WORDS, len(word_index) + 1)\n",
    "embedding_matrix = np.zeros((num_words, EMBEDDING_DIM))\n",
    "for word, i in word_index.items():\n",
    "    if i >= MAX_NUM_WORDS:\n",
    "        continue\n",
    "    embedding_vector = embeddings_dict.get(word)\n",
    "    if embedding_vector is not None:\n",
    "        # words not found in embedding index will be all-zeros.\n",
    "        embedding_matrix[i] = embedding_vector\n",
    "\n",
    "# load pre-trained word embeddings into an Embedding layer\n",
    "# note that we set trainable = False so as to keep the embeddings fixed\n",
    "embedding_layer = Embedding(num_words,\n",
    "                            EMBEDDING_DIM,\n",
    "                            embeddings_initializer=Constant(embedding_matrix),\n",
    "                            input_length=MAX_SEQUENCE_LENGTH,\n",
    "                            trainable=False)\n",
    "\n",
    "print(\"done\")"
   ]
  },
  {
   "cell_type": "code",
   "execution_count": 9,
   "id": "599e9927",
   "metadata": {},
   "outputs": [],
   "source": [
    "# print('Training model. CNN CNN Model.')\n",
    "\n",
    "# # train a 1D convnet with global maxpooling\n",
    "# sequence_input = Input(shape=(MAX_SEQUENCE_LENGTH,), dtype='int32')\n",
    "# embedded_sequences = embedding_layer(sequence_input)\n",
    "\n",
    "# x = Conv1D(128, 5, activation='relu')(embedded_sequences)\n",
    "# x1 = Dropout(0.2)(x)\n",
    "# x2 = MaxPooling1D(5)(x1)\n",
    "# x3 = Conv1D(128, 5, activation='relu')(x2)\n",
    "# x4 = Dropout(0.3)(x3)\n",
    "# x5 = MaxPooling1D(5)(x4)\n",
    "# x6 = Conv1D(128, 5, activation='relu')(x5)\n",
    "# x7 = GlobalMaxPooling1D()(x6)\n",
    "# x8 = Dense(128, activation='relu')(x7)\n",
    "# print(\"len labels:\", str(len(labels_index)))\n",
    "# preds = Dense(len(labels_index), activation='softmax')(x8)\n",
    "\n",
    "# print(\"Preds shape: \", preds.shape)\n",
    "# print(\"sequence_input shape: \", sequence_input.shape)\n",
    "\n",
    "# model = Model(sequence_input, preds)\n",
    "# model.compile(loss='categorical_crossentropy',\n",
    "#               optimizer='rmsprop',\n",
    "#               metrics=['acc', f1_m, precision_m, recall_m])\n",
    "\n",
    "# print(\"Shape of x_train: \", x_train.shape)\n",
    "# print(\"Shape of y_train: \", y_train.shape)\n",
    "# print(\"Shape of x_val: \", x_val.shape)\n",
    "# print(\"Shape of y_val: \", y_val.shape)\n",
    "# print(model.output_shape)\n",
    "# model.summary()\n",
    "\n",
    "\n",
    "# history = model.fit(x_train, y_train,\n",
    "#           batch_size=128,\n",
    "#           epochs=15,\n",
    "#           validation_data=(x_val, y_val))"
   ]
  },
  {
   "cell_type": "code",
   "execution_count": 10,
   "id": "cdc8ba8b",
   "metadata": {},
   "outputs": [],
   "source": [
    "# # print('Training model. CNN biLstm Model.')\n",
    "# from keras.models import Sequential\n",
    "# from keras.layers import Embedding\n",
    "# from tensorflow.keras.layers import Bidirectional\n",
    "# from keras.layers import LSTM\n",
    "# from keras.layers import Activation\n",
    "\n",
    "\n",
    "# sequence_input = Input(shape=(MAX_SEQUENCE_LENGTH,), dtype='int32')\n",
    "# embedded_sequences = embedding_layer(sequence_input)\n",
    "\n",
    "# model = Sequential()\n",
    "# model.add(embedding_layer)\n",
    "# # model.add(Embedding(embedded_sequences, output_dim=EMBEDDING_DIM, weights=[embedding_matrix], input_length = maxlen, trainable=False))\n",
    "# model.add(Dropout(0.2)) # embedding dropouts\n",
    "# model.add(Bidirectional(LSTM(256, return_sequences=True, recurrent_dropout=0.2, activation = 'tanh'))) # weight drop on recurrent layers using recurrent_dropout\n",
    "# model.add(GlobalMaxPooling1D())\n",
    "# model.add(Dense(512, activation='relu'))\n",
    "# model.add(Dropout(0.5))\n",
    "# model.add(Dense(63))\n",
    "# model.add(Activation('sigmoid'))\n",
    "\n",
    "# model.summary()\n",
    "# model.compile(loss = 'categorical_crossentropy' , optimizer = 'adam', metrics = ['accuracy'])\n",
    "    \n",
    "\n",
    "# # train the model\n",
    "# # model.fit(x_train, y_train, X_val=x_val, y_val=y_val,\n",
    "# #     epoch_num=15, optimizer='adam', verbose=True)\n",
    "# history = model.fit(x_train, y_train,\n",
    "#           batch_size=128,\n",
    "#           epochs=15,\n",
    "#           validation_data=(x_val, y_val))"
   ]
  },
  {
   "cell_type": "code",
   "execution_count": 11,
   "id": "385763db",
   "metadata": {},
   "outputs": [],
   "source": [
    "# CNN Bilstm attention\n",
    "# from keras.layers import Input, Dense, LSTM, concatenate,Conv1D,Dropout,Bidirectional,Multiply\n",
    "# from keras.models import Model\n",
    "\n",
    "\n",
    "# from tensorflow.keras.layers import Attention\n",
    "# from keras.layers.core import *\n",
    "# from keras.models import *\n",
    "\n",
    "# lstm_units = 64\n",
    "# SINGLE_ATTENTION_VECTOR = False\n",
    "# def attention_3d_block(inputs):\n",
    "#     # inputs.shape = (batch_size, time_steps, input_dim)\n",
    "#     input_dim = int(inputs.shape[2])\n",
    "#     a = inputs\n",
    "#     #a = Permute((2, 1))(inputs)\n",
    "#     #a = Reshape((input_dim, TIME_STEPS))(a) # this line is not useful. It's just to know which dimension is what.\n",
    "#     a = Dense(input_dim, activation='softmax')(a)\n",
    "#     if SINGLE_ATTENTION_VECTOR:\n",
    "#         a = Lambda(lambda x: K.mean(x, axis=1), name='dim_reduction')(a)\n",
    "#         a = RepeatVector(input_dim)(a)\n",
    "#     a_probs = Permute((1, 2), name='attention_vec')(a)\n",
    "\n",
    "#     output_attention_mul = concatenate([inputs, a_probs])\n",
    "#     return output_attention_mul\n",
    "\n",
    "# def attention_model():\n",
    "# #     inputs = Input(shape= x_train.shape)\n",
    "\n",
    "#     sequence_input = Input(shape=(MAX_SEQUENCE_LENGTH,), dtype='int32')\n",
    "#     embedded_sequences = embedding_layer(sequence_input)\n",
    "    \n",
    "#     x = Conv1D(filters = 64, kernel_size = 1, activation = 'relu')(embedded_sequences)  #, padding = 'same'\n",
    "#     x = Dropout(0.3)(x)\n",
    "\n",
    "#     #lstm_out = Bidirectional(LSTM(lstm_units, activation='relu'), name='bilstm')(x)\n",
    "#     #对于GPU可以使用CuDNNLSTM\n",
    "#     lstm_out = Bidirectional(LSTM(lstm_units, return_sequences=True))(x)\n",
    "#     lstm_out = Dropout(0.3)(lstm_out)\n",
    "#     attention_mul = attention_3d_block(lstm_out)\n",
    "#     attention_mul = Flatten()(attention_mul)\n",
    "\n",
    "#     output = Dense(63, activation='sigmoid')(attention_mul)\n",
    "#     model = Model(inputs=[sequence_input], outputs=output)\n",
    "#     return model\n",
    "\n",
    "\n",
    "# m = attention_model()\n",
    "# m.summary()\n",
    "# m.compile(optimizer='adam', loss='mse', metrics=['acc', f1_m, precision_m, recall_m])\n",
    "# history = m.fit([x_train], y_train, epochs=15, batch_size=64, validation_split=0.4, validation_data=(x_val, y_val))"
   ]
  },
  {
   "cell_type": "code",
   "execution_count": 18,
   "id": "9f3864d7",
   "metadata": {},
   "outputs": [
    {
     "name": "stdout",
     "output_type": "stream",
     "text": [
      "Model: \"model_2\"\n",
      "__________________________________________________________________________________________________\n",
      " Layer (type)                   Output Shape         Param #     Connected to                     \n",
      "==================================================================================================\n",
      " input_6 (InputLayer)           [(None, 1000)]       0           []                               \n",
      "                                                                                                  \n",
      " embedding_5 (Embedding)        (None, 1000, 300)    6000000     ['input_6[0][0]']                \n",
      "                                                                                                  \n",
      " spatial_dropout1d_3 (SpatialDr  (None, 1000, 300)   0           ['embedding_5[0][0]']            \n",
      " opout1D)                                                                                         \n",
      "                                                                                                  \n",
      " bidirectional_2 (Bidirectional  (None, 1000, 256)   439296      ['spatial_dropout1d_3[0][0]']    \n",
      " )                                                                                                \n",
      "                                                                                                  \n",
      " conv1d_2 (Conv1D)              (None, 998, 64)      49216       ['bidirectional_2[0][0]']        \n",
      "                                                                                                  \n",
      " global_average_pooling1d_2 (Gl  (None, 64)          0           ['conv1d_2[0][0]']               \n",
      " obalAveragePooling1D)                                                                            \n",
      "                                                                                                  \n",
      " global_max_pooling1d_2 (Global  (None, 64)          0           ['conv1d_2[0][0]']               \n",
      " MaxPooling1D)                                                                                    \n",
      "                                                                                                  \n",
      " concatenate_2 (Concatenate)    (None, 128)          0           ['global_average_pooling1d_2[0][0\n",
      "                                                                 ]',                              \n",
      "                                                                  'global_max_pooling1d_2[0][0]'] \n",
      "                                                                                                  \n",
      " dense_2 (Dense)                (None, 63)           8127        ['concatenate_2[0][0]']          \n",
      "                                                                                                  \n",
      "==================================================================================================\n",
      "Total params: 6,496,639\n",
      "Trainable params: 496,639\n",
      "Non-trainable params: 6,000,000\n",
      "__________________________________________________________________________________________________\n",
      "Epoch 1/20\n",
      "1025/1025 [==============================] - 4059s 4s/step - loss: 0.0365 - accuracy: 0.6314 - val_loss: 0.0240 - val_accuracy: 0.7241\n",
      "Epoch 2/20\n",
      "1025/1025 [==============================] - 4106s 4s/step - loss: 0.0234 - accuracy: 0.7270 - val_loss: 0.0215 - val_accuracy: 0.7462\n",
      "Epoch 3/20\n",
      "1025/1025 [==============================] - 31035s 30s/step - loss: 0.0211 - accuracy: 0.7485 - val_loss: 0.0201 - val_accuracy: 0.7596\n",
      "Epoch 4/20\n",
      "1025/1025 [==============================] - 4662s 5s/step - loss: 0.0197 - accuracy: 0.7653 - val_loss: 0.0197 - val_accuracy: 0.7658\n",
      "Epoch 5/20\n",
      "1025/1025 [==============================] - 4603s 4s/step - loss: 0.0186 - accuracy: 0.7780 - val_loss: 0.0189 - val_accuracy: 0.7711\n",
      "Epoch 6/20\n",
      "1025/1025 [==============================] - 4336s 4s/step - loss: 0.0179 - accuracy: 0.7878 - val_loss: 0.0189 - val_accuracy: 0.7776\n",
      "Epoch 7/20\n",
      "1025/1025 [==============================] - 4345s 4s/step - loss: 0.0169 - accuracy: 0.7974 - val_loss: 0.0193 - val_accuracy: 0.7685\n",
      "Epoch 8/20\n",
      "1025/1025 [==============================] - 4585s 4s/step - loss: 0.0162 - accuracy: 0.8055 - val_loss: 0.0187 - val_accuracy: 0.7809\n",
      "Epoch 9/20\n",
      "1025/1025 [==============================] - 5037s 5s/step - loss: 0.0154 - accuracy: 0.8166 - val_loss: 0.0185 - val_accuracy: 0.7827\n",
      "Epoch 10/20\n",
      "1025/1025 [==============================] - 7475s 7s/step - loss: 0.0148 - accuracy: 0.8255 - val_loss: 0.0191 - val_accuracy: 0.7834\n",
      "Epoch 11/20\n",
      "1025/1025 [==============================] - 8296s 8s/step - loss: 0.0142 - accuracy: 0.8325 - val_loss: 0.0188 - val_accuracy: 0.7827\n",
      "Epoch 12/20\n",
      "1025/1025 [==============================] - 6009s 6s/step - loss: 0.0136 - accuracy: 0.8395 - val_loss: 0.0194 - val_accuracy: 0.7825\n",
      "Epoch 13/20\n",
      "1025/1025 [==============================] - 4176s 4s/step - loss: 0.0130 - accuracy: 0.8480 - val_loss: 0.0197 - val_accuracy: 0.7801\n",
      "Epoch 14/20\n",
      "1025/1025 [==============================] - 4169s 4s/step - loss: 0.0126 - accuracy: 0.8550 - val_loss: 0.0196 - val_accuracy: 0.7884\n",
      "Epoch 15/20\n",
      "1025/1025 [==============================] - 4178s 4s/step - loss: 0.0120 - accuracy: 0.8613 - val_loss: 0.0207 - val_accuracy: 0.7732\n",
      "Epoch 16/20\n",
      "1025/1025 [==============================] - 4171s 4s/step - loss: 0.0115 - accuracy: 0.8694 - val_loss: 0.0206 - val_accuracy: 0.7754\n",
      "Epoch 17/20\n",
      "1025/1025 [==============================] - 4225s 4s/step - loss: 0.0111 - accuracy: 0.8743 - val_loss: 0.0215 - val_accuracy: 0.7810\n",
      "Epoch 18/20\n",
      "1025/1025 [==============================] - 14107s 14s/step - loss: 0.0107 - accuracy: 0.8811 - val_loss: 0.0213 - val_accuracy: 0.7764\n",
      "Epoch 19/20\n",
      "1025/1025 [==============================] - 4882s 5s/step - loss: 0.0102 - accuracy: 0.8868 - val_loss: 0.0217 - val_accuracy: 0.7788\n",
      "Epoch 20/20\n",
      "1025/1025 [==============================] - 4878s 5s/step - loss: 0.0099 - accuracy: 0.8913 - val_loss: 0.0227 - val_accuracy: 0.7790\n"
     ]
    }
   ],
   "source": [
    "# \n",
    "from keras.layers import Dense,Input,LSTM,Bidirectional,Activation,Conv1D,GRU\n",
    "from keras.layers import GlobalAveragePooling1D, GlobalMaxPooling1D, concatenate, SpatialDropout1D\n",
    "from keras.optimizers import Adam\n",
    "\n",
    "sequence_input = Input(shape=(MAX_SEQUENCE_LENGTH, ))\n",
    "x = Embedding(num_words, EMBEDDING_DIM, weights=[embedding_matrix],trainable = False)(sequence_input)\n",
    "x = SpatialDropout1D(0.2)(x)\n",
    "x = Bidirectional(LSTM(128, return_sequences=True,dropout=0.1,recurrent_dropout=0.1))(x)\n",
    "x = Conv1D(64, kernel_size = 3, padding = \"valid\", kernel_initializer = \"glorot_uniform\")(x)\n",
    "avg_pool = GlobalAveragePooling1D()(x)\n",
    "max_pool = GlobalMaxPooling1D()(x)\n",
    "x = concatenate([avg_pool, max_pool]) \n",
    "# x = Dense(128, activation='relu')(x)\n",
    "# x = Dropout(0.1)(x)\n",
    "preds = Dense(63, activation=\"sigmoid\")(x)\n",
    "model = Model(sequence_input, preds)\n",
    "model.compile(loss='binary_crossentropy',optimizer=Adam(lr=1e-3),metrics=['accuracy'])\n",
    "model.summary()\n",
    "history = model.fit(x_train, y_train, epochs = 20, validation_split=0.1, shuffle=True, batch_size=64)"
   ]
  },
  {
   "cell_type": "code",
   "execution_count": 21,
   "id": "a29f4de3",
   "metadata": {},
   "outputs": [
    {
     "data": {
      "image/png": "[encoded data removed]",
      "text/plain": [
       "<Figure size 640x480 with 1 Axes>"
      ]
     },
     "metadata": {},
     "output_type": "display_data"
    }
   ],
   "source": [
    "# plot metrics\n",
    "pyplot.plot(history.history[\"f1_m\"],  label=\"f1 score\")\n",
    "\n",
    "pyplot.plot(history.history[\"recall_m\"], label=\"recall\")\n",
    "pyplot.plot(history.history['acc'] , label=\"accuracy\")\n",
    "pyplot.title('Evaluation stats')\n",
    "pyplot.legend(loc=\"upper left\")\n",
    "pyplot.show()"
   ]
  },
  {
   "cell_type": "code",
   "execution_count": 22,
   "id": "b282e234",
   "metadata": {},
   "outputs": [
    {
     "ename": "NameError",
     "evalue": "name 'm' is not defined",
     "output_type": "error",
     "traceback": [
      "\u001b[0;31m---------------------------------------------------------------------------\u001b[0m",
      "\u001b[0;31mNameError\u001b[0m                                 Traceback (most recent call last)",
      "Cell \u001b[0;32mIn [22], line 2\u001b[0m\n\u001b[1;32m      1\u001b[0m \u001b[38;5;66;03m# serialize model to JSON\u001b[39;00m\n\u001b[0;32m----> 2\u001b[0m model_json \u001b[38;5;241m=\u001b[39m \u001b[43mm\u001b[49m\u001b[38;5;241m.\u001b[39mto_json()\n\u001b[1;32m      3\u001b[0m \u001b[38;5;28;01mwith\u001b[39;00m \u001b[38;5;28mopen\u001b[39m(\u001b[38;5;124m\"\u001b[39m\u001b[38;5;124mmodel.json\u001b[39m\u001b[38;5;124m\"\u001b[39m, \u001b[38;5;124m\"\u001b[39m\u001b[38;5;124mw\u001b[39m\u001b[38;5;124m\"\u001b[39m) \u001b[38;5;28;01mas\u001b[39;00m json_file:\n\u001b[1;32m      4\u001b[0m     json_file\u001b[38;5;241m.\u001b[39mwrite(model_json)\n",
      "\u001b[0;31mNameError\u001b[0m: name 'm' is not defined"
     ]
    }
   ],
   "source": [
    "# serialize model to JSON\n",
    "model_json = m.to_json()\n",
    "with open(\"model.json\", \"w\") as json_file:\n",
    "    json_file.write(model_json)\n",
    "# serialize weights to HDF5\n",
    "m.save_weights(\"model.h5\")\n",
    "print(\"Saved model to disk\")"
   ]
  },
  {
   "cell_type": "code",
   "execution_count": null,
   "id": "bfb7e427",
   "metadata": {},
   "outputs": [],
   "source": [
    "# load json and create model\n",
    "from keras.models import model_from_json \n",
    "\n",
    "json_file = open('model.json', 'r')\n",
    "loaded_model_json = json_file.read()\n",
    "json_file.close()\n",
    "loaded_model = model_from_json(loaded_model_json)\n",
    "# load weights into new model\n",
    "loaded_model.load_weights(\"model.h5\")\n",
    "print(\"Loaded model from disk\")\n",
    " \n",
    "# evaluate loaded model on test data\n",
    "loaded_model.compile(loss='categorical_crossentropy', optimizer='rmsprop', metrics=['accuracy'])\n",
    "score = loaded_model.evaluate(x_val, y_val, verbose=0)\n",
    "print(\"%s: %.2f%%\" % (loaded_model.metrics_names[1], score[1]*100))"
   ]
  },
  {
   "cell_type": "code",
   "execution_count": null,
   "id": "0835dd7d",
   "metadata": {},
   "outputs": [],
   "source": []
  },
  {
   "cell_type": "code",
   "execution_count": null,
   "id": "3d0f9748",
   "metadata": {},
   "outputs": [],
   "source": []
  },
  {
   "cell_type": "code",
   "execution_count": null,
   "id": "0f35c784",
   "metadata": {},
   "outputs": [],
   "source": []
  },
  {
   "cell_type": "code",
   "execution_count": null,
   "id": "1e8cb577",
   "metadata": {},
   "outputs": [],
   "source": []
  },
  {
   "cell_type": "code",
   "execution_count": null,
   "id": "c6d52f67",
   "metadata": {},
   "outputs": [],
   "source": []
  },
  {
   "cell_type": "code",
   "execution_count": null,
   "id": "6da66203",
   "metadata": {},
   "outputs": [],
   "source": []
  },
  {
   "cell_type": "code",
   "execution_count": null,
   "id": "20825cd6",
   "metadata": {},
   "outputs": [],
   "source": []
  }
 ],
 "metadata": {
  "kernelspec": {
   "display_name": "Python 3 (ipykernel)",
   "language": "python",
   "name": "python3"
  },
  "language_info": {
   "codemirror_mode": {
    "name": "ipython",
    "version": 3
   },
   "file_extension": ".py",
   "mimetype": "text/x-python",
   "name": "python",
   "nbconvert_exporter": "python",
   "pygments_lexer": "ipython3",
   "version": "3.10.6"
  }
 },
 "nbformat": 4,
 "nbformat_minor": 5
}
